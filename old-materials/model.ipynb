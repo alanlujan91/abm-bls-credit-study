{
 "cells": [
  {
   "cell_type": "code",
   "execution_count": 4,
   "id": "b1dd099a-58fd-4fae-8f0d-4930cfbcbf7b",
   "metadata": {},
   "outputs": [],
   "source": [
    "import numpy as np\n",
    "import pandas as pd\n",
    "import matplotlib.pyplot as plt\n",
    "from tqdm import tqdm"
   ]
  },
  {
   "cell_type": "code",
   "execution_count": 9,
   "id": "b0f7934b-678a-48ed-b9c4-a2ea01a48617",
   "metadata": {},
   "outputs": [],
   "source": [
    "class Borrower:\n",
    "    \"\"\"\n",
    "    Represents a consumer household (borrower) in the credit scoring model.\n",
    "    Based on Maliar, Maliar and Winant (2021).\n",
    "    \n",
    "    Each borrower experiences exogenous income shocks and makes\n",
    "    consumption decisions to maximize lifetime utility.\n",
    "    \"\"\"\n",
    "    \n",
    "    def __init__(self, uid, params):\n",
    "        \"\"\"\n",
    "        Initialize a borrower with the baseline parameters.\n",
    "        \n",
    "        Args:\n",
    "            uid (str): Unique identifier\n",
    "            params (dict): Model parameters\n",
    "        \"\"\"\n",
    "        self.uid = uid\n",
    "        \n",
    "        # Basic model parameters\n",
    "        self.beta = params.get('beta', 0.9)      # Time discount factor for utility: ∑β^t u(c_t)\n",
    "        \n",
    "        self.gamma = params.get('gamma', 2.0)    # Risk aversion coefficient for utility function\n",
    "        \n",
    "        # Income process parameters for y_{t+1} = ρy_t + σε\n",
    "        # Constraint: |ρ| < 1 from the model\n",
    "        self.rho = np.random.uniform(0.7, 0.95) \n",
    "        self.rho = min(max(self.rho, -0.99), 0.99)  # Ensure |ρ| < 1\n",
    "        \n",
    "        # Constraint: σ > 0 from the model\n",
    "        self.sigma = np.random.uniform(0.1, 0.3)  # Volatility parameter σ\n",
    "        self.sigma = max(self.sigma, 0.01)        # Ensure σ > 0\n",
    "        \n",
    "        # State variables for the wealth update equation: w_{t+1} = r(w_t - c_t) + e^{y_t}\n",
    "        self.wealth = np.random.uniform(1.0, 5.0)  # Initial wealth w_0\n",
    "        self.y = 0.0                              # Initial income shock y_0 \n",
    "        self.consumption = 0.0                    # Initial consumption c_0\n",
    "        \n",
    "        # Implement borrowing constraint: c_t < w_t from the model\n",
    "        self.borrowing_limit = 0.0  # Initially corresponds to constraint c_t < w_t"
   ]
  },
  {
   "cell_type": "code",
   "execution_count": 10,
   "id": "414df0d0-6083-448e-85a4-075472c198f8",
   "metadata": {},
   "outputs": [],
   "source": [
    "    def utility(self, consumption):\n",
    "        \"\"\"\n",
    "        This is used in the lifetime utility: ∑β^t u(c_t)\n",
    "        \"\"\"\n",
    "        if consumption <= 0:\n",
    "            return float('-inf')  # Consumption must be positive\n",
    "            \n",
    "        if self.gamma == 1:\n",
    "            return np.log(consumption)\n",
    "        else:\n",
    "            return (consumption**(1-self.gamma) - 1) / (1-self.gamma)"
   ]
  },
  {
   "cell_type": "code",
   "execution_count": 11,
   "id": "bdf3ba7b-029e-41eb-a1ea-688da5fc3879",
   "metadata": {},
   "outputs": [],
   "source": [
    "def update_income(self):\n",
    "        \"\"\"\n",
    "        Update income shock according to AR(1) process: y_{t+1} = ρy_t + σε\n",
    "        \"\"\"\n",
    "        epsilon = np.random.normal(0, 1)\n",
    "        \n",
    "        # Update income state according to AR(1) process\n",
    "        self.y = self.rho * self.y + self.sigma * epsilon\n",
    "        \n",
    "        # Update income history for tracking H periods of history\n",
    "        self.income_history.pop(0)       \n",
    "        self.income_history.append(self.y)\n",
    "        \n",
    "        return self.y"
   ]
  },
  {
   "cell_type": "code",
   "execution_count": null,
   "id": "6ae5c246-712d-47c2-ac5e-3a9e89d26ca6",
   "metadata": {},
   "outputs": [],
   "source": [
    "    def calculate_assets(self):\n",
    "        \"\"\"\n",
    "        Calculate assets (a_t) according to a_t = w_t - c_t\n",
    "        \"\"\"\n",
    "        return self.wealth - self.consumption"
   ]
  }
 ],
 "metadata": {
  "kernelspec": {
   "display_name": "Python 3 (ipykernel)",
   "language": "python",
   "name": "python3"
  },
  "language_info": {
   "codemirror_mode": {
    "name": "ipython",
    "version": 3
   },
   "file_extension": ".py",
   "mimetype": "text/x-python",
   "name": "python",
   "nbconvert_exporter": "python",
   "pygments_lexer": "ipython3",
   "version": "3.10.4"
  }
 },
 "nbformat": 4,
 "nbformat_minor": 5
}
