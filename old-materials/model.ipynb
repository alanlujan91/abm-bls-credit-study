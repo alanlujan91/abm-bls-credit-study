{
 "cells": [
  {
   "cell_type": "code",
   "execution_count": 1,
   "id": "b1dd099a-58fd-4fae-8f0d-4930cfbcbf7b",
   "metadata": {},
   "outputs": [],
   "source": [
    "import numpy as np\n",
    "import pandas as pd\n",
    "import matplotlib.pyplot as plt\n",
    "from tqdm import tqdm"
   ]
  },
  {
   "cell_type": "code",
   "execution_count": null,
   "id": "426eb388-59c6-44cf-9b6b-d5b84f625fdc",
   "metadata": {},
   "outputs": [],
   "source": [
    "class Borrower:\n",
    "    \"\"\"\n",
    "    Represents a borrower (consumer household) in the credit scoring model.\n",
    "    The borrower experiences income fluctuations and makes financial decisions.\n",
    "    \"\"\"\n",
    "    def __init__(self, params):\n",
    "        \"\"\"\n",
    "        Initializes a borrower with given economic model parameters.\n",
    "        \"\"\"\n",
    "        self.beta = params.get('beta', 0.9)  # Time discount factor\n",
    "        self.gamma = params.get('gamma', 2.0)  # Risk aversion coefficient\n",
    "        self.rho = params.get('rho', 0.85)  # Income persistence\n",
    "        self.sigma = params.get('sigma', 0.15)  # Income volatility\n",
    "        self.initial_wealth = params.get('initial_wealth', 2.0)  # Initial wealth\n",
    "        self.borrowing_limit = params.get('borrowing_limit', 1.0)  # Borrowing constraint\n",
    "        self.interest_rate = params.get('interest_rate', 1.01)  # Initial interest rate\n",
    "        \n",
    "        # State variables\n",
    "        self.wealth = self.initial_wealth  # Initial wealth level\n",
    "        self.y = 0.0  # Initial income level\n",
    "        self.consumption = 0.0  # Initial consumption level\n",
    "        self.credit_history = []  # Record of past income levels for credit scoring\n",
    "    \n",
    "    def update_income(self):\n",
    "        \"\"\"\n",
    "        Updates income using an AR(1) process:\n",
    "        y_{t+1} = rho * y_t + sigma * epsilon\n",
    "        \"\"\"\n",
    "        epsilon = np.random.normal(0, 1)\n",
    "        self.y = self.rho * self.y + self.sigma * epsilon\n",
    "    \n",
    "    def compute_credit_score(self):\n",
    "        \"\"\"\n",
    "        Computes a credit score based on wealth and past income levels.\n",
    "        \"\"\"\n",
    "        past_income_effect = np.mean(self.credit_history[-5:]) if len(self.credit_history) >= 5 else 0\n",
    "        return max(300, min(850, 700 + 5 * (self.wealth - 2) + 2 * past_income_effect))\n",
    "    \n",
    "    def update_wealth(self):\n",
    "        \"\"\"\n",
    "        Updates wealth based on consumption and income.\n",
    "        w_{t+1} = r_t (w_t - c_t) + e^{y_t}\n",
    "        \"\"\"\n",
    "        r_t = self.compute_interest_rate()\n",
    "        self.wealth = r_t * (self.wealth - self.consumption) + np.exp(self.y)\n",
    "        self.credit_history.append(self.y)  # Store income for credit score calculations\n",
    "    \n",
    "    def compute_interest_rate(self):\n",
    "        \"\"\"\n",
    "        Determines the borrowing interest rate based on the credit score.\n",
    "        Higher credit scores result in lower interest rates.\n",
    "        \"\"\"\n",
    "        credit_score = self.compute_credit_score()\n",
    "        return 1.005 if credit_score > 750 else 1.02 if credit_score > 650 else 1.05"
   ]
  },
  {
   "cell_type": "code",
   "execution_count": null,
   "id": "27ec026d-55d3-47d6-b1a6-8213be62d763",
   "metadata": {},
   "outputs": [],
   "source": [
    "class CreditScoringModel:\n",
    "    \"\"\"\n",
    "    Represents a system that manages multiple borrowers in the credit scoring model.\n",
    "    \"\"\"\n",
    "    def __init__(self, num_borrowers, params):\n",
    "        \"\"\"\n",
    "        Initializes the credit scoring system with multiple borrowers.\n",
    "        \"\"\"\n",
    "        self.borrowers = [Borrower(params=params) for _ in range(num_borrowers)]\n",
    "    \n",
    "    def simulate(self, periods=10):\n",
    "        \"\"\"\n",
    "        Runs the simulation over a specified number of time periods.\n",
    "        \"\"\"\n",
    "        results = []\n",
    "        for t in range(periods):\n",
    "            for borrower in self.borrowers:\n",
    "                borrower.update_income()\n",
    "                borrower.update_wealth()\n",
    "                results.append((t, borrower.y, borrower.wealth, borrower.compute_credit_score(), borrower.compute_interest_rate()))\n",
    "        return pd.DataFrame(results, columns=['time', 'income', 'wealth', 'credit_score', 'interest_rate'])"
   ]
  },
  {
   "cell_type": "code",
   "execution_count": null,
   "id": "c2caaadf-19c1-4cbe-81b4-b85a42d8ca47",
   "metadata": {},
   "outputs": [],
   "source": [
    "def calculate_assets(self):\n",
    "    \"\"\"\n",
    "    Calculate assets (a_t) according to a_t = w_t - c_t\n",
    "    \"\"\"\n",
    "    return self.wealth - self.consumption"
   ]
  }
 ],
 "metadata": {
  "kernelspec": {
   "display_name": "Python 3 (ipykernel)",
   "language": "python",
   "name": "python3"
  },
  "language_info": {
   "codemirror_mode": {
    "name": "ipython",
    "version": 3
   },
   "file_extension": ".py",
   "mimetype": "text/x-python",
   "name": "python",
   "nbconvert_exporter": "python",
   "pygments_lexer": "ipython3",
   "version": "3.10.4"
  }
 },
 "nbformat": 4,
 "nbformat_minor": 5
}
